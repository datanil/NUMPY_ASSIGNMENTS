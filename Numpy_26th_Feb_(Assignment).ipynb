{
  "nbformat": 4,
  "nbformat_minor": 0,
  "metadata": {
    "colab": {
      "provenance": []
    },
    "kernelspec": {
      "name": "python3",
      "display_name": "Python 3"
    },
    "language_info": {
      "name": "python"
    }
  },
  "cells": [
    {
      "cell_type": "markdown",
      "source": [
        "### **Consider the below code to answer further questions:**\n",
        "```\n",
        "import numpy as np\n",
        "list_ = [ ‘1’ , ’2’ , ‘3’ , ‘4’ , ‘5’ ]\n",
        "array_list = np.array(object = list_)\n",
        "```\n",
        "### **Q1. Is there any difference in the data type of variables list_ and array_list? If there is then write a code to print the data types of both the variables.**\n",
        "\n",
        "### ***ANSWER :***\n",
        "\n"
      ],
      "metadata": {
        "id": "kojM4-bK6gj5"
      }
    },
    {
      "cell_type": "markdown",
      "source": [
        "Yes, there is a difference in the data types of variables list_ and array_list.\n",
        "\n",
        "To print the data types of both variables, we can use the type() function in Python. Here's the code:"
      ],
      "metadata": {
        "id": "uLPxMJUo9OSI"
      }
    },
    {
      "cell_type": "code",
      "execution_count": null,
      "metadata": {
        "colab": {
          "base_uri": "https://localhost:8080/"
        },
        "id": "hiZpSKUf6Vsw",
        "outputId": "6cb9cf5c-d518-46fe-d90a-46756ea1c811"
      },
      "outputs": [
        {
          "output_type": "stream",
          "name": "stdout",
          "text": [
            "Data type of list : <class 'list'>\n",
            "Data type of array_list <class 'numpy.ndarray'>\n"
          ]
        }
      ],
      "source": [
        "import  numpy as np\n",
        "list_ = ['1' , '2' , '3' , '4' , '5' ]\n",
        "array_list = np.array(object = list_)\n",
        "\n",
        "print(\"Data type of list :\",type(list_))\n",
        "print(\"Data type of array_list\", type(array_list))"
      ]
    },
    {
      "cell_type": "markdown",
      "source": [],
      "metadata": {
        "id": "yLaA6J4U98i0"
      }
    },
    {
      "cell_type": "markdown",
      "source": [
        "### **Q2. Write a code to print the data type of each and every element of both the variables list_ and array_list.**\n",
        "\n",
        "### ***ANSWER :***"
      ],
      "metadata": {
        "id": "cP4CjDGE7Zkd"
      }
    },
    {
      "cell_type": "code",
      "source": [
        "import numpy as np\n",
        "\n",
        "list_ = ['1' , '2' , '3' , '4' , '5' ]\n",
        "array_list = np.array(object = list_)\n",
        "\n",
        "#Print the data type of each and every element of the vriables list_\n",
        "print(\"Data type of each element in the variable list_ is :\")\n",
        "for element in list_ :\n",
        "  print(type(list_))\n",
        "\n",
        "#Print the data type of each and every element of the variable array_list\n",
        "print(\"\\n Data type of each and every element in the array_list is :\\n\")\n",
        "for element in array_list:\n",
        "  print(type(array_list))\n"
      ],
      "metadata": {
        "colab": {
          "base_uri": "https://localhost:8080/"
        },
        "id": "9y-GFWSF7xBN",
        "outputId": "0bfb28da-eaab-49fb-e934-4cb44d0a8e1d"
      },
      "execution_count": null,
      "outputs": [
        {
          "output_type": "stream",
          "name": "stdout",
          "text": [
            "Data type of each element in the variable list_ is :\n",
            "<class 'list'>\n",
            "<class 'list'>\n",
            "<class 'list'>\n",
            "<class 'list'>\n",
            "<class 'list'>\n",
            "\n",
            " Data type of each and every element in the array_list is :\n",
            "\n",
            "<class 'numpy.ndarray'>\n",
            "<class 'numpy.ndarray'>\n",
            "<class 'numpy.ndarray'>\n",
            "<class 'numpy.ndarray'>\n",
            "<class 'numpy.ndarray'>\n"
          ]
        }
      ]
    },
    {
      "cell_type": "markdown",
      "source": [
        "### **Q3. Considering the following changes in the variable, array_list:**\n",
        "```\n",
        "array_list = np.array(object = list_, dtype = int)\n",
        "```\n",
        "### **Will there be any difference in the data type of the elements present in both the variables, list_ and array_list? If so then print the data types of each and every element present in both the variables, list_ and arra_list.**\n",
        "\n",
        "### ***ANSWER :***"
      ],
      "metadata": {
        "id": "ZznhITAO7gPa"
      }
    },
    {
      "cell_type": "markdown",
      "source": [
        "Yes, there is a difference in the data types of variables list_ and array_list.\n",
        "\n",
        "To print the data types of both variables, we can use the type() function in Python. Here's the code:"
      ],
      "metadata": {
        "id": "x2tn_tLFG8jv"
      }
    },
    {
      "cell_type": "code",
      "source": [
        "import numpy as np\n",
        "list_ =['1' , '2' , '3' , '4' , '5' ]\n",
        "array_list = np.array(object = list_, dtype = int)\n",
        "\n",
        "#Print the data type for each and every element present in the variable list_\n",
        "print(\"Data type for each every element present in the variable list_ :\")\n",
        "for element in list_ :\n",
        "  print(type(element))\n",
        "\n",
        "#Print the data type for each and every element present in the variable array_list\n",
        "print(\"\\n Data type for eacha and every element present in the varibale array_list :\\n\")\n",
        "for element in array_list :\n",
        "  print(type(element))"
      ],
      "metadata": {
        "colab": {
          "base_uri": "https://localhost:8080/"
        },
        "id": "9J6FtkvC7xmg",
        "outputId": "f17aec72-3975-48d4-e7dd-702d781d911e"
      },
      "execution_count": null,
      "outputs": [
        {
          "output_type": "stream",
          "name": "stdout",
          "text": [
            "Data type for each every element present in the variable list_ :\n",
            "<class 'str'>\n",
            "<class 'str'>\n",
            "<class 'str'>\n",
            "<class 'str'>\n",
            "<class 'str'>\n",
            "\n",
            " Data type for eacha and every element present in the varibale array_list :\n",
            "\n",
            "<class 'numpy.int64'>\n",
            "<class 'numpy.int64'>\n",
            "<class 'numpy.int64'>\n",
            "<class 'numpy.int64'>\n",
            "<class 'numpy.int64'>\n"
          ]
        }
      ]
    },
    {
      "cell_type": "markdown",
      "source": [
        "### **Consider the below code to answer further questions:**\n",
        "```\n",
        "import numpy as np\n",
        "num_list = [ [ 1 , 2 , 3 ] , [ 4 , 5 , 6 ] ]\n",
        "num_array = np.array(object = num_list)\n",
        "```\n",
        "### **Q4. Write a code to find the following characteristics of variable, num_array:**\n",
        "### **(i) shape**\n",
        "### **(ii) size**\n",
        "\n",
        "### ***ANSWER :***"
      ],
      "metadata": {
        "id": "rhj51wZK7wGB"
      }
    },
    {
      "cell_type": "code",
      "source": [
        "import numpy as np\n",
        "num_list = [ [ 1 , 2 , 3 ] , [ 4 , 5 , 6 ] ]\n",
        "num_array = np.array(object = num_list)"
      ],
      "metadata": {
        "id": "toV-KfzS8qiA"
      },
      "execution_count": null,
      "outputs": []
    },
    {
      "cell_type": "markdown",
      "source": [
        "(i) shape :"
      ],
      "metadata": {
        "id": "JlFrVR2NHCGU"
      }
    },
    {
      "cell_type": "code",
      "source": [
        "np.shape(num_array)"
      ],
      "metadata": {
        "colab": {
          "base_uri": "https://localhost:8080/"
        },
        "id": "YlbVdlbPEIDA",
        "outputId": "00f8b286-a276-4ce4-de04-ca5d843a95ac"
      },
      "execution_count": null,
      "outputs": [
        {
          "output_type": "execute_result",
          "data": {
            "text/plain": [
              "(2, 3)"
            ]
          },
          "metadata": {},
          "execution_count": 15
        }
      ]
    },
    {
      "cell_type": "markdown",
      "source": [
        "(ii) size"
      ],
      "metadata": {
        "id": "JGEknGk7HFEE"
      }
    },
    {
      "cell_type": "code",
      "source": [
        "np.size(num_array)"
      ],
      "metadata": {
        "colab": {
          "base_uri": "https://localhost:8080/"
        },
        "id": "22qD1O2VFBwD",
        "outputId": "3e7ea21d-4cee-4cf3-ac6b-64e3de8ac21b"
      },
      "execution_count": null,
      "outputs": [
        {
          "output_type": "execute_result",
          "data": {
            "text/plain": [
              "6"
            ]
          },
          "metadata": {},
          "execution_count": 16
        }
      ]
    },
    {
      "cell_type": "markdown",
      "source": [
        "### **Q5. Write a code to create numpy array of 3*3 matrix containing zeros only, using a numpy array creation function.**\n",
        "\n",
        "**[Hint: The size of the array will be 9 and the shape will be (3,3).]**\n",
        "\n",
        "### ***ANSWER :***"
      ],
      "metadata": {
        "id": "5VHf5KCP8q9Z"
      }
    },
    {
      "cell_type": "code",
      "source": [
        "import numpy as np\n",
        "\n",
        "np.zeros((3,3))"
      ],
      "metadata": {
        "colab": {
          "base_uri": "https://localhost:8080/"
        },
        "id": "kwTbocI381Gd",
        "outputId": "c0ecab0b-b32f-49b2-9f58-02905922d0f4"
      },
      "execution_count": null,
      "outputs": [
        {
          "output_type": "execute_result",
          "data": {
            "text/plain": [
              "array([[0., 0., 0.],\n",
              "       [0., 0., 0.],\n",
              "       [0., 0., 0.]])"
            ]
          },
          "metadata": {},
          "execution_count": 19
        }
      ]
    },
    {
      "cell_type": "markdown",
      "source": [
        "### **Q6. Create an identity matrix of shape (5,5) using numpy functions?**\n",
        "### **[Hint: An identity matrix is a matrix containing 1 diagonally and other elements will be 0.]**\n",
        "\n",
        "### ***ANSWER :***"
      ],
      "metadata": {
        "id": "OzSxpeff80d6"
      }
    },
    {
      "cell_type": "code",
      "source": [
        "import numpy as np\n",
        "\n",
        "np.eye((5))"
      ],
      "metadata": {
        "colab": {
          "base_uri": "https://localhost:8080/"
        },
        "id": "SyART0Mn9Enz",
        "outputId": "83eab057-2209-46be-fb97-29a2403c8e2d"
      },
      "execution_count": null,
      "outputs": [
        {
          "output_type": "execute_result",
          "data": {
            "text/plain": [
              "array([[1., 0., 0., 0., 0.],\n",
              "       [0., 1., 0., 0., 0.],\n",
              "       [0., 0., 1., 0., 0.],\n",
              "       [0., 0., 0., 1., 0.],\n",
              "       [0., 0., 0., 0., 1.]])"
            ]
          },
          "metadata": {},
          "execution_count": 21
        }
      ]
    }
  ]
}